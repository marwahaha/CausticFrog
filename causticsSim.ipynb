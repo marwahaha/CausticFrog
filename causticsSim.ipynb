{
 "cells": [
  {
   "cell_type": "code",
   "execution_count": 4,
   "metadata": {},
   "outputs": [
    {
     "name": "stdout",
     "output_type": "stream",
     "text": [
      "The Cython extension is already loaded. To reload it, use:\n",
      "  %reload_ext Cython\n",
      "The autoreload extension is already loaded. To reload it, use:\n",
      "  %reload_ext autoreload\n"
     ]
    }
   ],
   "source": [
    "import numpy as np\n",
    "import bokeh.plotting as blt\n",
    "import Cython\n",
    "%load_ext Cython\n",
    "%load_ext autoreload\n",
    "%autoreload 2"
   ]
  },
  {
   "cell_type": "code",
   "execution_count": 5,
   "metadata": {},
   "outputs": [],
   "source": [
    "import causticTools.sim as cSim\n",
    "import causticTools.io as cIo\n",
    "import causticTools.analytic as cAnalytic\n",
    "import pyximport\n",
    "pyximport.install()\n",
    "from causticTools.cythonSim import massFunction"
   ]
  },
  {
   "cell_type": "code",
   "execution_count": 6,
   "metadata": {
    "collapsed": true
   },
   "outputs": [],
   "source": [
    "M=1e9\n",
    "m=9e8\n",
    "rho=1\n",
    "vFactor=(4/3)*np.pi\n",
    "class baryonInit(massFunction):\n",
    "    def evaluate(self,r):\n",
    "        return M\n",
    "class baryonMass(massFunction):\n",
    "    def evaluate(self,r):\n",
    "        return m\n",
    "class dmMass(massFunction):\n",
    "    def evaluate(self,r):\n",
    "        return vFactor*rho*(r**3)\n",
    "class findEcc(massFunction):\n",
    "    def evaluate(self,P):\n",
    "        return 1-(1-P)**(1/n)"
   ]
  },
  {
   "cell_type": "code",
   "execution_count": 7,
   "metadata": {},
   "outputs": [
    {
     "name": "stdout",
     "output_type": "stream",
     "text": [
      "(8194, ' edges')\n",
      "(8192, ' shells')\n",
      "('Saving to file: ', 'output/Test.0_8.txt')\n",
      "('time: ', 0.0)\n",
      "('Saving to file: ', 'output/Test.1_8.txt')\n",
      "('time: ', 1200000.0)\n",
      "('Saving to file: ', 'output/Test.2_8.txt')\n",
      "('time: ', 2400000.0)\n",
      "('Saving to file: ', 'output/Test.3_8.txt')\n",
      "('time: ', 3600000.0)\n",
      "('Saving to file: ', 'output/Test.4_8.txt')\n",
      "('time: ', 4800000.0)\n",
      "('Saving to file: ', 'output/Test.5_8.txt')\n",
      "('time: ', 6000000.0)\n",
      "('Saving to file: ', 'output/Test.6_8.txt')\n",
      "('time: ', 7200000.0)\n",
      "('Saving to file: ', 'output/Test.7_8.txt')\n",
      "('time: ', 8400000.0)\n",
      "('Saving to file: ', 'output/Test.8_8.txt')\n",
      "('time: ', 9600000.0)\n"
     ]
    }
   ],
   "source": [
    "#test cell\n",
    "nShells=4096\n",
    "nPhase=1\n",
    "nEcc=1\n",
    "T=1e7\n",
    "dt=1e5\n",
    "rMin=50\n",
    "rMax=500\n",
    "n=1 # defines eccentricity distribution\n",
    "nOutput=8\n",
    "name='Test'\n",
    "cSim.runSim(nShells,nPhase,nEcc,T,dt,rMin,rMax,name,nOutput,dmMass(),baryonInit(),baryonMass(),findEcc())"
   ]
  }
 ],
 "metadata": {
  "anaconda-cloud": {},
  "kernelspec": {
   "display_name": "Python [conda root]",
   "language": "python",
   "name": "conda-root-py"
  },
  "language_info": {
   "codemirror_mode": {
    "name": "ipython",
    "version": 3
   },
   "file_extension": ".py",
   "mimetype": "text/x-python",
   "name": "python",
   "nbconvert_exporter": "python",
   "pygments_lexer": "ipython3",
   "version": "3.5.2"
  }
 },
 "nbformat": 4,
 "nbformat_minor": 2
}
